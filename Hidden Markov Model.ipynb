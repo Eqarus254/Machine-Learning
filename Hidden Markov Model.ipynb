{
 "cells": [
  {
   "cell_type": "markdown",
   "id": "d1f1f607",
   "metadata": {},
   "source": [
    "# HIDDEN MARKOV MODEL"
   ]
  },
  {
   "cell_type": "code",
   "execution_count": 10,
   "id": "e13e99a1",
   "metadata": {},
   "outputs": [
    {
     "data": {
      "text/html": [
       "<div>\n",
       "<style scoped>\n",
       "    .dataframe tbody tr th:only-of-type {\n",
       "        vertical-align: middle;\n",
       "    }\n",
       "\n",
       "    .dataframe tbody tr th {\n",
       "        vertical-align: top;\n",
       "    }\n",
       "\n",
       "    .dataframe thead th {\n",
       "        text-align: right;\n",
       "    }\n",
       "</style>\n",
       "<table border=\"1\" class=\"dataframe\">\n",
       "  <thead>\n",
       "    <tr style=\"text-align: right;\">\n",
       "      <th></th>\n",
       "      <th>sentence</th>\n",
       "      <th>Word</th>\n",
       "      <th>POS</th>\n",
       "      <th>Tag</th>\n",
       "    </tr>\n",
       "  </thead>\n",
       "  <tbody>\n",
       "    <tr>\n",
       "      <th>0</th>\n",
       "      <td>Sentence: 1</td>\n",
       "      <td>Thousands</td>\n",
       "      <td>NNS</td>\n",
       "      <td>O</td>\n",
       "    </tr>\n",
       "    <tr>\n",
       "      <th>1</th>\n",
       "      <td>Sentence: 1</td>\n",
       "      <td>of</td>\n",
       "      <td>IN</td>\n",
       "      <td>O</td>\n",
       "    </tr>\n",
       "    <tr>\n",
       "      <th>2</th>\n",
       "      <td>Sentence: 1</td>\n",
       "      <td>demonstrators</td>\n",
       "      <td>NNS</td>\n",
       "      <td>O</td>\n",
       "    </tr>\n",
       "    <tr>\n",
       "      <th>3</th>\n",
       "      <td>Sentence: 1</td>\n",
       "      <td>have</td>\n",
       "      <td>VBP</td>\n",
       "      <td>O</td>\n",
       "    </tr>\n",
       "    <tr>\n",
       "      <th>4</th>\n",
       "      <td>Sentence: 1</td>\n",
       "      <td>marched</td>\n",
       "      <td>VBN</td>\n",
       "      <td>O</td>\n",
       "    </tr>\n",
       "  </tbody>\n",
       "</table>\n",
       "</div>"
      ],
      "text/plain": [
       "      sentence           Word  POS Tag\n",
       "0  Sentence: 1      Thousands  NNS   O\n",
       "1  Sentence: 1             of   IN   O\n",
       "2  Sentence: 1  demonstrators  NNS   O\n",
       "3  Sentence: 1           have  VBP   O\n",
       "4  Sentence: 1        marched  VBN   O"
      ]
     },
     "execution_count": 10,
     "metadata": {},
     "output_type": "execute_result"
    }
   ],
   "source": [
    "import numpy as np\n",
    "import pandas as pd\n",
    "import seaborn as sns\n",
    "from tqdm import tqdm\n",
    "from matplotlib import pyplot as plt\n",
    "\n",
    "from sklearn.model_selection import GroupShuffleSplit\n",
    "from hmmlearn import hmm\n",
    "from sklearn.metrics import confusion_matrix, classification_report, accuracy_score, precision_score, recall_score, f1_score, roc_auc_score\n",
    "\n",
    "dataset = pd.read_csv(\"ner_dataset.csv\", encoding='latin1')\n",
    "dataset = dataset.fillna(method=\"ffill\")\n",
    "dataset = dataset.rename(columns={'Sentence #': 'sentence'})\n",
    "dataset.head(5)"
   ]
  },
  {
   "cell_type": "code",
   "execution_count": 12,
   "id": "06e87883",
   "metadata": {},
   "outputs": [
    {
     "data": {
      "text/plain": [
       "(42, 35177)"
      ]
     },
     "execution_count": 12,
     "metadata": {},
     "output_type": "execute_result"
    }
   ],
   "source": [
    "tags = list(set(dataset.POS.values)) \n",
    "words = list(set(dataset.Word.values)) \n",
    "len(tags), len(words) \n"
   ]
  },
  {
   "cell_type": "code",
   "execution_count": 13,
   "id": "17db1de6",
   "metadata": {},
   "outputs": [
    {
     "data": {
      "text/html": [
       "<div>\n",
       "<style scoped>\n",
       "    .dataframe tbody tr th:only-of-type {\n",
       "        vertical-align: middle;\n",
       "    }\n",
       "\n",
       "    .dataframe tbody tr th {\n",
       "        vertical-align: top;\n",
       "    }\n",
       "\n",
       "    .dataframe thead th {\n",
       "        text-align: right;\n",
       "    }\n",
       "</style>\n",
       "<table border=\"1\" class=\"dataframe\">\n",
       "  <thead>\n",
       "    <tr style=\"text-align: right;\">\n",
       "      <th></th>\n",
       "      <th>sentence</th>\n",
       "      <th>Word</th>\n",
       "      <th>POS</th>\n",
       "      <th>Tag</th>\n",
       "    </tr>\n",
       "  </thead>\n",
       "  <tbody>\n",
       "    <tr>\n",
       "      <th>24</th>\n",
       "      <td>Sentence: 2</td>\n",
       "      <td>Families</td>\n",
       "      <td>NNS</td>\n",
       "      <td>O</td>\n",
       "    </tr>\n",
       "    <tr>\n",
       "      <th>25</th>\n",
       "      <td>Sentence: 2</td>\n",
       "      <td>of</td>\n",
       "      <td>IN</td>\n",
       "      <td>O</td>\n",
       "    </tr>\n",
       "    <tr>\n",
       "      <th>26</th>\n",
       "      <td>Sentence: 2</td>\n",
       "      <td>soldiers</td>\n",
       "      <td>NNS</td>\n",
       "      <td>O</td>\n",
       "    </tr>\n",
       "    <tr>\n",
       "      <th>27</th>\n",
       "      <td>Sentence: 2</td>\n",
       "      <td>killed</td>\n",
       "      <td>VBN</td>\n",
       "      <td>O</td>\n",
       "    </tr>\n",
       "    <tr>\n",
       "      <th>28</th>\n",
       "      <td>Sentence: 2</td>\n",
       "      <td>in</td>\n",
       "      <td>IN</td>\n",
       "      <td>O</td>\n",
       "    </tr>\n",
       "    <tr>\n",
       "      <th>...</th>\n",
       "      <td>...</td>\n",
       "      <td>...</td>\n",
       "      <td>...</td>\n",
       "      <td>...</td>\n",
       "    </tr>\n",
       "    <tr>\n",
       "      <th>1048570</th>\n",
       "      <td>Sentence: 47959</td>\n",
       "      <td>they</td>\n",
       "      <td>PRP</td>\n",
       "      <td>O</td>\n",
       "    </tr>\n",
       "    <tr>\n",
       "      <th>1048571</th>\n",
       "      <td>Sentence: 47959</td>\n",
       "      <td>responded</td>\n",
       "      <td>VBD</td>\n",
       "      <td>O</td>\n",
       "    </tr>\n",
       "    <tr>\n",
       "      <th>1048572</th>\n",
       "      <td>Sentence: 47959</td>\n",
       "      <td>to</td>\n",
       "      <td>TO</td>\n",
       "      <td>O</td>\n",
       "    </tr>\n",
       "    <tr>\n",
       "      <th>1048573</th>\n",
       "      <td>Sentence: 47959</td>\n",
       "      <td>the</td>\n",
       "      <td>DT</td>\n",
       "      <td>O</td>\n",
       "    </tr>\n",
       "    <tr>\n",
       "      <th>1048574</th>\n",
       "      <td>Sentence: 47959</td>\n",
       "      <td>attack</td>\n",
       "      <td>NN</td>\n",
       "      <td>O</td>\n",
       "    </tr>\n",
       "  </tbody>\n",
       "</table>\n",
       "<p>702936 rows × 4 columns</p>\n",
       "</div>"
      ],
      "text/plain": [
       "                sentence       Word  POS Tag\n",
       "24           Sentence: 2   Families  NNS   O\n",
       "25           Sentence: 2         of   IN   O\n",
       "26           Sentence: 2   soldiers  NNS   O\n",
       "27           Sentence: 2     killed  VBN   O\n",
       "28           Sentence: 2         in   IN   O\n",
       "...                  ...        ...  ...  ..\n",
       "1048570  Sentence: 47959       they  PRP   O\n",
       "1048571  Sentence: 47959  responded  VBD   O\n",
       "1048572  Sentence: 47959         to   TO   O\n",
       "1048573  Sentence: 47959        the   DT   O\n",
       "1048574  Sentence: 47959     attack   NN   O\n",
       "\n",
       "[702936 rows x 4 columns]"
      ]
     },
     "execution_count": 13,
     "metadata": {},
     "output_type": "execute_result"
    }
   ],
   "source": [
    "y = dataset.POS\n",
    "X = dataset.drop('POS', axis=1)\n",
    "\n",
    "groupshufflesplit = GroupShuffleSplit(n_splits=2, test_size=.33, random_state=42)\n",
    "ix_train, ix_test = next(groupshufflesplit.split(X, y, groups=dataset['sentence']))\n",
    "\n",
    "# Use the correct DataFrame name here\n",
    "dataset_train = dataset.loc[ix_train]\n",
    "dataset_test = dataset.loc[ix_test] \n",
    " \n",
    "dataset_train "
   ]
  },
  {
   "cell_type": "code",
   "execution_count": 14,
   "id": "86adebde",
   "metadata": {},
   "outputs": [
    {
     "data": {
      "text/plain": [
       "(42, 29586)"
      ]
     },
     "execution_count": 14,
     "metadata": {},
     "output_type": "execute_result"
    }
   ],
   "source": [
    "tags = list(set(dataset_train.POS.values)) \n",
    "words = list(set(dataset_train.Word.values)) \n",
    "len(tags), len(words)\n"
   ]
  },
  {
   "cell_type": "code",
   "execution_count": 15,
   "id": "8d91d240",
   "metadata": {},
   "outputs": [
    {
     "data": {
      "text/plain": [
       "(42, 27553)"
      ]
     },
     "execution_count": 15,
     "metadata": {},
     "output_type": "execute_result"
    }
   ],
   "source": [
    "dataframe_update = dataset_train.sample(frac=.15, replace=False, random_state=42) \n",
    "dataframe_update.Word = 'UNKNOWN'\n",
    "dataset_train.update(dataframe_update) \n",
    "words = list(set(dataset_train.Word.values)) \n",
    "# Convert words and tags into numbers \n",
    "word2id = {w: i for i, w in enumerate(words)} \n",
    "tag2id = {t: i for i, t in enumerate(tags)} \n",
    "id2tag = {i: t for i, t in enumerate(tags)} \n",
    "len(tags), len(words) "
   ]
  },
  {
   "cell_type": "code",
   "execution_count": 18,
   "id": "a97b847a",
   "metadata": {},
   "outputs": [],
   "source": [
    "tags_count = dict(dataset_train.POS.value_counts())\n",
    "tags_to_word_count = (\n",
    "    dataset_train.groupby(['POS'])\n",
    "    .apply(lambda grp: grp.groupby('Word')['POS'].count().to_dict())\n",
    "    .to_dict()\n",
    ")\n",
    "init_tags_count = dict(dataset_train.groupby('sentence').first().POS.value_counts())\n",
    "\n",
    "tags_to_next_tags_count = np.zeros((len(tags), len(tags)), dtype=int)\n",
    "sentences = list(dataset_train.sentence)\n",
    "pos = list(dataset_train.POS)\n",
    "for i in range(len(sentences)):\n",
    "    if (i > 0) and (sentences[i] == sentences[i - 1]):\n",
    "        prevtagid = tag2id[pos[i - 1]]\n",
    "        nexttagid = tag2id[pos[i]]\n",
    "        tags_to_next_tags_count[prevtagid][nexttagid] += 1\n",
    "\n",
    "my_start_prob = np.zeros((len(tags),))\n",
    "my_transmat = np.zeros((len(tags), len(tags)))\n",
    "my_emission_prob = np.zeros((len(tags), len(words)))\n",
    "num_sentences = sum(init_tags_count.values())\n",
    "sum_tags_to_next_tags = np.sum(tags_to_next_tags_count, axis=1)\n",
    "\n",
    "for tag, tagid in tag2id.items():\n",
    "    floatCountTag = float(tags_count.get(tag, 0))  # Fixed typo here\n",
    "    my_start_prob[tagid] = init_tags_count.get(tag, 0) / num_sentences\n",
    "    for word, wordid in word2id.items():\n",
    "        my_emission_prob[tagid][wordid] = tags_to_word_count.get(tag, {}).get(word, 0) / floatCountTag\n",
    "\n",
    "    for tag2, tagid2 in tag2id.items():\n",
    "        my_transmat[tagid][tagid2] = tags_to_next_tags_count[tagid][tagid2] / sum_tags_to_next_tags[tagid]\n",
    "\n",
    " "
   ]
  },
  {
   "cell_type": "code",
   "execution_count": 19,
   "id": "c60d3bed",
   "metadata": {},
   "outputs": [
    {
     "name": "stderr",
     "output_type": "stream",
     "text": [
      "MultinomialHMM has undergone major changes. The previous version was implementing a CategoricalHMM (a special case of MultinomialHMM). This new implementation follows the standard definition for a Multinomial distribution (e.g. as in https://en.wikipedia.org/wiki/Multinomial_distribution). See these issues for details:\n",
      "https://github.com/hmmlearn/hmmlearn/issues/335\n",
      "https://github.com/hmmlearn/hmmlearn/issues/340\n"
     ]
    }
   ],
   "source": [
    "model = hmm.MultinomialHMM(n_components=len(tags), algorithm='viterbi', random_state=42\n",
    ") \n",
    "model.startprob_ = my_start_prob \n",
    "model.transmat_ = my_transmat \n",
    "model.emissionprob_ = my_emission_prob"
   ]
  },
  {
   "cell_type": "code",
   "execution_count": 30,
   "id": "118cc080",
   "metadata": {},
   "outputs": [
    {
     "ename": "NameError",
     "evalue": "name 'num_states' is not defined",
     "output_type": "error",
     "traceback": [
      "\u001b[1;31m---------------------------------------------------------------------------\u001b[0m",
      "\u001b[1;31mNameError\u001b[0m                                 Traceback (most recent call last)",
      "Cell \u001b[1;32mIn[30], line 25\u001b[0m\n\u001b[0;32m     22\u001b[0m         count \u001b[38;5;241m=\u001b[39m \u001b[38;5;241m1\u001b[39m \n\u001b[0;32m     24\u001b[0m \u001b[38;5;66;03m# Initialize the HMM model with n_trials set to 1\u001b[39;00m\n\u001b[1;32m---> 25\u001b[0m model \u001b[38;5;241m=\u001b[39m hmm\u001b[38;5;241m.\u001b[39mMultinomialHMM(n_components\u001b[38;5;241m=\u001b[39mnum_states, n_iter\u001b[38;5;241m=\u001b[39mnum_iterations, n_trials\u001b[38;5;241m=\u001b[39m\u001b[38;5;241m1\u001b[39m)\n\u001b[0;32m     27\u001b[0m \u001b[38;5;66;03m# Train your model if needed\u001b[39;00m\n\u001b[0;32m     28\u001b[0m \u001b[38;5;66;03m# model.fit(training_data)\u001b[39;00m\n\u001b[0;32m     29\u001b[0m \n\u001b[0;32m     30\u001b[0m \u001b[38;5;66;03m# Predict using the trained model\u001b[39;00m\n\u001b[0;32m     31\u001b[0m predict_pos \u001b[38;5;241m=\u001b[39m model\u001b[38;5;241m.\u001b[39mpredict(samples_of, lengths) \n",
      "\u001b[1;31mNameError\u001b[0m: name 'num_states' is not defined"
     ]
    }
   ],
   "source": [
    "import pandas as pd\n",
    "from hmmlearn import hmm\n",
    "\n",
    "# Assuming dataset_test is a pandas DataFrame\n",
    "dataset_test.loc[~dataset_test['Word'].isin(words), 'Word'] = 'UNKNOWN' \n",
    "test_word = list(dataset_test.Word) \n",
    "samples_of = [] \n",
    "for i, val in enumerate(test_word): \n",
    "    samples_of.append([word2id[val]]) \n",
    "\n",
    "# Using pandas for sentence length calculation\n",
    "lengths = [] \n",
    "count = 0 \n",
    "sentences = list(dataset_test.sentence) \n",
    "for i in range(len(sentences)): \n",
    "    if (i > 0) and (sentences[i] == sentences[i - 1]): \n",
    "        count += 1 \n",
    "    elif i > 0: \n",
    "        lengths.append(count) \n",
    "        count = 1 \n",
    "    else: \n",
    "        count = 1 \n",
    "\n",
    "# Initialize the HMM model with n_trials set to 1\n",
    "model = hmm.MultinomialHMM(n_components=num_states, n_iter=num_iterations, n_trials=1)\n",
    "\n",
    "# Train your model if needed\n",
    "# model.fit(training_data)\n",
    "\n",
    "# Predict using the trained model\n",
    "predict_pos = model.predict(samples_of, lengths) \n",
    "predict_pos\n"
   ]
  },
  {
   "cell_type": "code",
   "execution_count": 1,
   "id": "cb6d1a61",
   "metadata": {},
   "outputs": [
    {
     "ename": "SyntaxError",
     "evalue": "invalid syntax (3709463455.py, line 1)",
     "output_type": "error",
     "traceback": [
      "\u001b[1;36m  Cell \u001b[1;32mIn[1], line 1\u001b[1;36m\u001b[0m\n\u001b[1;33m    nbconvert --allow-chromium-download Hidden Markov Model.ipynb\u001b[0m\n\u001b[1;37m                                        ^\u001b[0m\n\u001b[1;31mSyntaxError\u001b[0m\u001b[1;31m:\u001b[0m invalid syntax\n"
     ]
    }
   ],
   "source": [
    "nbconvert --allow-chromium-download Hidden Markov Model.ipynb\n"
   ]
  },
  {
   "cell_type": "code",
   "execution_count": null,
   "id": "87bf93c7",
   "metadata": {},
   "outputs": [],
   "source": []
  }
 ],
 "metadata": {
  "kernelspec": {
   "display_name": "Python 3 (ipykernel)",
   "language": "python",
   "name": "python3"
  },
  "language_info": {
   "codemirror_mode": {
    "name": "ipython",
    "version": 3
   },
   "file_extension": ".py",
   "mimetype": "text/x-python",
   "name": "python",
   "nbconvert_exporter": "python",
   "pygments_lexer": "ipython3",
   "version": "3.11.5"
  }
 },
 "nbformat": 4,
 "nbformat_minor": 5
}
